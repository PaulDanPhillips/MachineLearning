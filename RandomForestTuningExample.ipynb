{
 "cells": [
  {
   "attachments": {},
   "cell_type": "markdown",
   "metadata": {},
   "source": [
    "# Machine Learning Example with Python on Kaggle Titanic Dataset\n",
    "## Module Import"
   ]
  },
  {
   "cell_type": "code",
   "execution_count": null,
   "metadata": {},
   "outputs": [],
   "source": [
    "import pandas as pd\n",
    "import os\n",
    "import numpy as np\n",
    "import scipy.stats as stats\n",
    "import pickle\n",
    "from itertools import combinations\n",
    "# from sklearn.datasets import load_iris\n",
    "# from sklearn.ensemble import GradientBoostingClassifier\n",
    "from sklearn.ensemble import RandomForestClassifier\n",
    "# from sklearn.linear_model import LogisticRegression\n",
    "# from sklearn.model_selection import RandomizedSearchCV, StratifiedKFold, train_test_split\n",
    "from ClassTuning import Tuning\n",
    "import matplotlib.pyplot as plt\n",
    "import seaborn as sns\n",
    "# from statsmodels.stats.outliers_influence import variance_inflation_factor\n",
    "# from statsmodels.tools.tools import add_constant\n",
    "# from sklearn.preprocessing import StandardScaler\n",
    "import ClassParamAnalysis as PMA\n",
    "# from pathlib import Path\n"
   ]
  },
  {
   "attachments": {},
   "cell_type": "markdown",
   "metadata": {},
   "source": [
    "## Load Dataset"
   ]
  },
  {
   "cell_type": "code",
   "execution_count": null,
   "metadata": {},
   "outputs": [],
   "source": [
    "titanic = pd.read_csv('Titanic_train.csv', index_col=0)\n",
    "\n",
    "titanic.drop(columns=['Cabin'], inplace=True)\n",
    "titanic.dropna(inplace=True)\n",
    "\n",
    "random_state = np.random.RandomState(42)\n",
    "\n",
    "Y = titanic['Survived'].copy()\n",
    "X = titanic.drop(columns=['Survived', 'Name', 'Ticket'])\n",
    "X.dtypes\n",
    "\n",
    "# X=pd.get_dummies(data=X, columns=['Sex', 'Embarked'])\n",
    "X['Sex'] = X['Sex'].map({'male':0, 'female':1})\n",
    "X['Embarked'] = X['Embarked'].map({'S':0, 'C':1, 'Q':2})\n",
    "\n",
    "X['Sex'] = X['Sex'].astype('category')\n",
    "X['Embarked'] = X['Embarked'].astype('category')"
   ]
  },
  {
   "attachments": {},
   "cell_type": "markdown",
   "metadata": {},
   "source": [
    "## Preliminary Feature analuysis"
   ]
  },
  {
   "cell_type": "code",
   "execution_count": null,
   "metadata": {},
   "outputs": [],
   "source": [
    "df = titanic.copy()\n",
    "df['Age'] =pd.cut(df['Age'], range(0,90,10))\n",
    "df['Fare'] =pd.cut(df['Fare'], range(0,520,20))\n",
    "df.drop(columns=['Ticket'], inplace=True)\n",
    "val_counts = []\n",
    "for col in df.columns:\n",
    "    tmp = pd.DataFrame(df[col].value_counts())\n",
    "    if len(tmp) < len(titanic):\n",
    "        val_counts.append(tmp)\n",
    "        tmp.plot.bar()\n",
    "\n",
    "\n",
    "sns.pairplot(titanic.loc[:,titanic.dtypes != 'object'])\n",
    "\n",
    "corr = titanic.loc[:,titanic.dtypes != 'object'].corr()\n",
    "sns.heatmap(corr, xticklabels=corr.columns, yticklabels=corr.columns, cmap=sns.diverging_palette(220, 10, as_cmap=True))\n"
   ]
  },
  {
   "attachments": {},
   "cell_type": "markdown",
   "metadata": {},
   "source": [
    "## Tuning Random Forest"
   ]
  },
  {
   "cell_type": "code",
   "execution_count": null,
   "metadata": {},
   "outputs": [],
   "source": [
    "num_cores = os.cpu_count()-1\n",
    "max_depth = [int(x) for x in np.linspace(10, 110, num = 11)]\n",
    "max_depth.append(None)\n",
    "RFparam_space= {\n",
    "  'max_depth': max_depth,\n",
    "  'max_features': ['sqrt', 'log2'],\n",
    "  'min_samples_leaf': [1, 2, 4],\n",
    "  'min_samples_split': [2, 5, 10, 20],\n",
    "  'n_estimators': [int(x) for x in np.linspace(start = 200, stop = 2000, num = 7)]}\n",
    "\n",
    "if not os.path.exists('Titanic/RandomSearchTuned'):\n",
    "   os.makedirs('Titanic/RandomSearchTuned')\n",
    "\n",
    "\n",
    "rf = RandomForestClassifier()\n",
    "TuneObj = Tuning(n_splits=10, repeat=5,  n_jobs=4)\n",
    "RF = TuneObj.Tuning_RandomSearch_classify(X=X, Y=Y, repeat=1, n_splits=10, scorer='accuracy', mod=rf, hyperparameters=RFparam_space, n_iter=25, n_jobs=num_cores)\n",
    "RF.to_csv('Titanic_RFrandSearch.txt', sep='\\t')"
   ]
  },
  {
   "attachments": {},
   "cell_type": "markdown",
   "metadata": {},
   "source": [
    "## Random Search Analysis"
   ]
  },
  {
   "cell_type": "code",
   "execution_count": null,
   "metadata": {},
   "outputs": [],
   "source": [
    "ParamFigObj = PMA.Param_analysis()\n",
    "countData = ParamFigObj.RandomSearchAnalysis(RF, 0.25, 3, 'mean_test_score', figTitle='Random Forest Parameter Count \\n of Top scorers from RandomSearchCV', figname=\"RandSearchFIG.png\")\n",
    "RFGridParamSpace = ParamFigObj.RandSearchParamGrid(countData, num_opt=3, outdir=os.getcwd(), outfile='RFGridParamSpace1.pickle')"
   ]
  },
  {
   "cell_type": "code",
   "execution_count": null,
   "metadata": {},
   "outputs": [],
   "source": [
    "TuneObj.repeat = 25\n",
    "RF = TuneObj.Tuning_GridSearch_classify(X=X, Y=Y, repeat=TuneObj.repeat, n_splits=10, scorer='accuracy', mod=rf, hyperparameters=RFGridParamSpace, n_jobs=num_cores, stratify=True) #, n_jobs=numCores\n",
    "RF.to_csv('RFgridSearch1.txt', sep='\\t')"
   ]
  },
  {
   "attachments": {},
   "cell_type": "markdown",
   "metadata": {},
   "source": [
    "## Grid Search Analysis"
   ]
  },
  {
   "cell_type": "code",
   "execution_count": null,
   "metadata": {},
   "outputs": [],
   "source": [
    "\n",
    "RF=pd.read_csv('RFgridSearch1.txt', sep='\\t', index_col=0)\n",
    "RF.sort_values('mean_test_score', ascending=False, inplace=True)\n",
    "tmp=RF.groupby('params')['mean_test_score'].mean().reset_index()\n",
    "RFbest = RF[RF['params'].isin(tmp.params.head(10).to_list())]\n",
    "fig, ax = plt.subplots(figsize=(25, 25))\n",
    "ax = sns.boxplot(data = RFbest, x='params', y='mean_test_score')\n",
    "ax.tick_params(rotation=90)"
   ]
  },
  {
   "attachments": {},
   "cell_type": "markdown",
   "metadata": {},
   "source": [
    "## Define Best Performing RF hyperparameters.\n",
    "* Perform k-fold corrected paired Ttest to identify statistically significant differences.\n",
    "* If no statistically significant differences identified choose the most parsimonious model (following Occam's razor)"
   ]
  },
  {
   "cell_type": "code",
   "execution_count": null,
   "metadata": {},
   "outputs": [],
   "source": [
    "# ParamFigObj = PMA.Param_analysis()\n",
    "\n",
    "\n",
    "# #### Plotting\n",
    "# RF.params = RF.params.astype('str')\n",
    "# RFbest = ParamFigObj.Best_mean(RF, 'mean_test_score', 10)\n",
    "# RFTestFold =  ParamFigObj.Param_figs(RFbest, 'mean_test_score', 'LSBSR Random RF Tuning', 'param_max_depth', 'param_n_estimators') # Convert to seaborn\n",
    "# RFTrainFold =  ParamFigObj.Param_figs(RFbest, 'mean_train_score', 'LSBSR Random RF Tuning', 'param_max_depth', 'param_n_estimators')\n",
    "# RFTestFold.save('GridSearchFIG1_'+options.sim+'.png', dpi=300)\n",
    "\n",
    "\n",
    "#### Define best params through repeated k-fold cross validation TTest\n",
    "RFbest.reset_index(inplace=True)\n",
    "groups = RFbest.groupby('params')\n",
    "keys = groups.groups.keys()\n",
    "r = TuneObj.repeat\n",
    "k = TuneObj.n_splits\n",
    "nsample =len(X)\n",
    "n2 = int((1/k)*nsample*r)\n",
    "n1 =int(((k-1)/k)*nsample*r)\n",
    "ParamList=list(keys)\n",
    "Comparables = list(combinations(ParamList,2))\n",
    "\n",
    "BestLST = []\n",
    "#### Find if there is statistacally significant difference\n",
    "\n",
    "for i in range(len(Comparables)):\n",
    "    t, pval = ParamFigObj.KfoldPairedTtest(r, k, n2, n1, groups.get_group(Comparables[i][0]), groups.get_group(Comparables[i][1]), 'mean_test_score', 'Phenotype')\n",
    "    if pval <=0.05:\n",
    "        BestLST.append(pval, Comparables[i][0], Comparables[i][1])\n",
    "#### If no statistically significant difference, then use parsimony.\n",
    "if len(BestLST)==0:\n",
    "    RFbest.sort_values(['param_n_estimators', 'param_max_depth'], ascending=[False, False], inplace=True)\n",
    "    # RFbest.params = RFbest.params.astype('str')\n",
    "    RFbestParams = eval(RFbest.params[0])\n",
    "    RFoptimal = RandomForestClassifier( **RFbestParams)\n",
    "\n",
    "print(RFoptimal)\n",
    "with open('RFOptimal_Tuning1.pickle', 'wb') as handle:\n",
    "    pickle.dump(RFoptimal, handle, protocol=pickle.HIGHEST_PROTOCOL)"
   ]
  },
  {
   "cell_type": "code",
   "execution_count": null,
   "metadata": {},
   "outputs": [],
   "source": [
    "RFbest.params"
   ]
  }
 ],
 "metadata": {
  "kernelspec": {
   "display_name": "MachineLearn",
   "language": "python",
   "name": "python3"
  },
  "language_info": {
   "codemirror_mode": {
    "name": "ipython",
    "version": 3
   },
   "file_extension": ".py",
   "mimetype": "text/x-python",
   "name": "python",
   "nbconvert_exporter": "python",
   "pygments_lexer": "ipython3",
   "version": "3.9.15"
  },
  "orig_nbformat": 4,
  "vscode": {
   "interpreter": {
    "hash": "a9c46db2f73ae3b04f1ec155c3f2092aa32f1b108d0001ffaffb88bf0ee147a1"
   }
  }
 },
 "nbformat": 4,
 "nbformat_minor": 2
}
